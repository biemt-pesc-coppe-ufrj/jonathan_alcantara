{
 "cells": [
  {
   "cell_type": "code",
   "execution_count": 1,
   "metadata": {},
   "outputs": [],
   "source": [
    "import xml.sax\n",
    "from xml.dom.minidom import parse\n",
    "import xml.dom.minidom"
   ]
  },
  {
   "cell_type": "code",
   "execution_count": 46,
   "metadata": {},
   "outputs": [],
   "source": [
    "def write_to_file(filename, text):\n",
    "    with open(filename, 'a') as file:\n",
    "        file.write(text + '\\n')\n",
    "            \n",
    "def clean_files():\n",
    "    with open('autores.txt', 'w') as author_file:\n",
    "        author_file.write('')\n",
    "    with open('titulos.txt', 'w') as title_file:\n",
    "        title_file.write('')  "
   ]
  },
  {
   "cell_type": "code",
   "execution_count": 47,
   "metadata": {},
   "outputs": [],
   "source": [
    "class PaperHandler(xml.sax.ContentHandler):\n",
    "    \n",
    "    def __init__(self):\n",
    "        self.author = ''\n",
    "        self.title = ''\n",
    "        self.current_tag = ''\n",
    "        \n",
    "    def startElement(self, tag, attributes):\n",
    "        self.current_tag = tag\n",
    "        \n",
    "    def endElement(self, tag):\n",
    "        if self.current_tag == 'AUTHOR':\n",
    "            write_to_file('autores.txt', self.author)\n",
    "        elif self.current_tag == 'TITLE':\n",
    "            write_to_file('titulos.txt', self.title)\n",
    "\n",
    "        self.title = ''\n",
    "        self.current_tag = ''\n",
    "\n",
    "    def characters(self, content):\n",
    "        if self.current_tag == 'AUTHOR':\n",
    "            self.author = content\n",
    "        elif self.current_tag == 'TITLE':\n",
    "            self.title += content\n",
    "\n",
    "\n",
    "if __name__ == \"__main__\":\n",
    "    clean_files()\n",
    "    \n",
    "    parser = xml.sax.make_parser()\n",
    "    parser.setFeature(xml.sax.handler.feature_namespaces, 0)\n",
    "    parser.setContentHandler(PaperHandler())\n",
    "\n",
    "    parser.parse('cf79.xml')"
   ]
  },
  {
   "cell_type": "code",
   "execution_count": 50,
   "metadata": {},
   "outputs": [],
   "source": [
    "def save_authors_from_collection(collection):\n",
    "    authors = collection.getElementsByTagName(\"AUTHOR\")\n",
    "    for author in authors:\n",
    "        write_to_file('autores.txt', author.childNodes[0].data)\n",
    "        \n",
    "def save_titles_from_collection(collection):\n",
    "    titles = collection.getElementsByTagName('TITLE')\n",
    "    for title in titles:\n",
    "        write_to_file('titulos.txt', title.childNodes[0].data)\n",
    "\n",
    "\n",
    "if __name__ == \"__main__\":\n",
    "    clean_files()\n",
    "\n",
    "    DOMTree = xml.dom.minidom.parse(\"cf79.xml\")\n",
    "    collection = DOMTree.documentElement\n",
    "\n",
    "    save_authors_from_collection(collection)\n",
    "    save_titles_from_collection(collection)"
   ]
  }
 ],
 "metadata": {
  "kernelspec": {
   "display_name": "Python 3",
   "language": "python",
   "name": "python3"
  },
  "language_info": {
   "codemirror_mode": {
    "name": "ipython",
    "version": 3
   },
   "file_extension": ".py",
   "mimetype": "text/x-python",
   "name": "python",
   "nbconvert_exporter": "python",
   "pygments_lexer": "ipython3",
   "version": "3.6.9"
  }
 },
 "nbformat": 4,
 "nbformat_minor": 4
}
